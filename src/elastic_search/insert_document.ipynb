{
 "cells": [
  {
   "cell_type": "markdown",
   "id": "c3defa33",
   "metadata": {},
   "source": [
    "# Connect to ElasticSearch"
   ]
  },
  {
   "cell_type": "code",
   "execution_count": 5,
   "id": "55b87c25",
   "metadata": {},
   "outputs": [
    {
     "name": "stdout",
     "output_type": "stream",
     "text": [
      "connected!\n",
      "{'name': '7cbebeb542a3', 'cluster_name': 'docker-cluster', 'cluster_uuid': 'Dd9uvPVYTAaJV3SHr9HTgA', 'version': {'number': '9.1.3', 'build_flavor': 'default', 'build_type': 'docker', 'build_hash': '0c781091a2f57de895a73a1391ff8426c0153c8d', 'build_date': '2025-08-24T22:05:04.526302670Z', 'build_snapshot': False, 'lucene_version': '10.2.2', 'minimum_wire_compatibility_version': '8.19.0', 'minimum_index_compatibility_version': '8.0.0'}, 'tagline': 'You Know, for Search'}\n"
     ]
    }
   ],
   "source": [
    "from elasticsearch import Elasticsearch\n",
    "\n",
    "ELASTIC_PASSWORD = \"6_UJ-snFLq_FKHjweJhg\"\n",
    "\n",
    "CERT_FINGERPRINT = \"1123dfb3b65fa37733335d06eddf4002585aee390b6e5047fc40e247ba723920\"\n",
    "\n",
    "es = Elasticsearch(\n",
    "    \"https://localhost:9200\",\n",
    "    ssl_assert_fingerprint=CERT_FINGERPRINT,\n",
    "    basic_auth=(\"elastic\", ELASTIC_PASSWORD)\n",
    ")\n",
    "\n",
    "if es.ping():\n",
    "    print(\"connected!\")\n",
    "\n",
    "print(es.info()._body)"
   ]
  },
  {
   "cell_type": "markdown",
   "id": "8ea23e20",
   "metadata": {},
   "source": [
    "# Insert one document\n",
    "\n",
    "create a dummy index just to test insert one document"
   ]
  },
  {
   "cell_type": "code",
   "execution_count": 7,
   "id": "7240e10c",
   "metadata": {},
   "outputs": [
    {
     "data": {
      "text/plain": [
       "ObjectApiResponse({'acknowledged': True, 'shards_acknowledged': True, 'index': 'my_index'})"
      ]
     },
     "execution_count": 7,
     "metadata": {},
     "output_type": "execute_result"
    }
   ],
   "source": [
    "es.indices.delete(index='my_index', ignore_unavailable=True)\n",
    "es.indices.create(index='my_index')"
   ]
  },
  {
   "cell_type": "code",
   "execution_count": 8,
   "id": "84515c94",
   "metadata": {},
   "outputs": [
    {
     "data": {
      "text/plain": [
       "ObjectApiResponse({'_index': 'my_documents', '_id': 'hrkN8pgBvTmWfglGRUlR', '_version': 1, 'result': 'created', '_shards': {'total': 2, 'successful': 1, 'failed': 0}, '_seq_no': 0, '_primary_term': 1})"
      ]
     },
     "execution_count": 8,
     "metadata": {},
     "output_type": "execute_result"
    }
   ],
   "source": [
    "document = {\n",
    "    'title': 'title',\n",
    "    'text': 'text',\n",
    "    'created_on': '2025-08-27'\n",
    "}\n",
    "\n",
    "response = es.index(index='my_documents', body=document)\n",
    "response"
   ]
  },
  {
   "cell_type": "code",
   "execution_count": 9,
   "id": "61ab8d6d",
   "metadata": {},
   "outputs": [
    {
     "name": "stdout",
     "output_type": "stream",
     "text": [
      "created\n"
     ]
    }
   ],
   "source": [
    "print(response['result'])"
   ]
  },
  {
   "cell_type": "markdown",
   "id": "3a62e7bb",
   "metadata": {},
   "source": [
    "# Insert multiple documents"
   ]
  },
  {
   "cell_type": "code",
   "execution_count": 11,
   "id": "1bb2d0bd",
   "metadata": {},
   "outputs": [
    {
     "data": {
      "text/plain": [
       "[{'title': 'title 1', 'text': 'text 1', 'created_on': '2024-08-27'},\n",
       " {'title': 'title 2', 'text': 'text 2', 'created_on': '2024-08-27'},\n",
       " {'title': 'title 3', 'text': 'text 3', 'created_on': '2024-08-27'}]"
      ]
     },
     "execution_count": 11,
     "metadata": {},
     "output_type": "execute_result"
    }
   ],
   "source": [
    "import json\n",
    "\n",
    "dummy_data = json.load(open('dummy_data.json'))\n",
    "dummy_data"
   ]
  },
  {
   "cell_type": "code",
   "execution_count": null,
   "id": "663a361c",
   "metadata": {},
   "outputs": [
    {
     "name": "stdout",
     "output_type": "stream",
     "text": [
      "{'_index': 'my_index', '_id': 'h7kc8pgBvTmWfglGYEn5', '_version': 1, 'result': 'created', '_shards': {'total': 2, 'successful': 1, 'failed': 0}, '_seq_no': 0, '_primary_term': 1}\n",
      "{'_index': 'my_index', '_id': 'iLkc8pgBvTmWfglGYUkX', '_version': 1, 'result': 'created', '_shards': {'total': 2, 'successful': 1, 'failed': 0}, '_seq_no': 1, '_primary_term': 1}\n",
      "{'_index': 'my_index', '_id': 'ibkc8pgBvTmWfglGYUkd', '_version': 1, 'result': 'created', '_shards': {'total': 2, 'successful': 1, 'failed': 0}, '_seq_no': 2, '_primary_term': 1}\n"
     ]
    }
   ],
   "source": [
    "def insert_document(document):\n",
    "    response = es.index(index='my_index', body=document)\n",
    "    return response\n",
    "\n",
    "def print_info(response):\n",
    "    print(f\"\"\"Document ID: {response['_id']} is {response['result']} and split into {response['_shards']['totals']} shards.\"\"\")\n",
    "\n",
    "for document in dummy_data:\n",
    "    response = insert_document(document)\n",
    "    print_info(response)"
   ]
  }
 ],
 "metadata": {
  "kernelspec": {
   "display_name": "base",
   "language": "python",
   "name": "python3"
  },
  "language_info": {
   "codemirror_mode": {
    "name": "ipython",
    "version": 3
   },
   "file_extension": ".py",
   "mimetype": "text/x-python",
   "name": "python",
   "nbconvert_exporter": "python",
   "pygments_lexer": "ipython3",
   "version": "3.13.5"
  }
 },
 "nbformat": 4,
 "nbformat_minor": 5
}
