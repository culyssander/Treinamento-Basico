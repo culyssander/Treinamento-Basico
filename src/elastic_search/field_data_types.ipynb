{
 "cells": [
  {
   "cell_type": "code",
   "execution_count": 1,
   "id": "53e04ad1",
   "metadata": {},
   "outputs": [
    {
     "name": "stdout",
     "output_type": "stream",
     "text": [
      "connected!\n",
      "{'name': '7cbebeb542a3', 'cluster_name': 'docker-cluster', 'cluster_uuid': 'Dd9uvPVYTAaJV3SHr9HTgA', 'version': {'number': '9.1.3', 'build_flavor': 'default', 'build_type': 'docker', 'build_hash': '0c781091a2f57de895a73a1391ff8426c0153c8d', 'build_date': '2025-08-24T22:05:04.526302670Z', 'build_snapshot': False, 'lucene_version': '10.2.2', 'minimum_wire_compatibility_version': '8.19.0', 'minimum_index_compatibility_version': '8.0.0'}, 'tagline': 'You Know, for Search'}\n"
     ]
    }
   ],
   "source": [
    "from elasticsearch import Elasticsearch\n",
    "\n",
    "ELASTIC_PASSWORD = \"6_UJ-snFLq_FKHjweJhg\"\n",
    "\n",
    "CERT_FINGERPRINT = \"1123dfb3b65fa37733335d06eddf4002585aee390b6e5047fc40e247ba723920\"\n",
    "\n",
    "es = Elasticsearch(\n",
    "    \"https://localhost:9200\",\n",
    "    ssl_assert_fingerprint=CERT_FINGERPRINT,\n",
    "    basic_auth=(\"elastic\", ELASTIC_PASSWORD)\n",
    ")\n",
    "\n",
    "if es.ping():\n",
    "    print(\"connected!\")\n",
    "\n",
    "print(es.info()._body)"
   ]
  },
  {
   "cell_type": "markdown",
   "id": "ee416a35",
   "metadata": {},
   "source": [
    "# 1. Common types\n",
    "\n",
    "## 1.1. Binary"
   ]
  },
  {
   "cell_type": "code",
   "execution_count": 2,
   "id": "154bebb0",
   "metadata": {},
   "outputs": [
    {
     "data": {
      "text/plain": [
       "ObjectApiResponse({'acknowledged': True, 'shards_acknowledged': True, 'index': 'binary_index'})"
      ]
     },
     "execution_count": 2,
     "metadata": {},
     "output_type": "execute_result"
    }
   ],
   "source": [
    "es.indices.delete(index='binary_index', ignore_unavailable=True)\n",
    "es.indices.create(\n",
    "    index='binary_index',\n",
    "    mappings={\n",
    "        'properties': {\n",
    "            'image_data': {\n",
    "                'type': 'binary'\n",
    "            }\n",
    "        }\n",
    "    }\n",
    ")"
   ]
  },
  {
   "cell_type": "code",
   "execution_count": 3,
   "id": "72307bf3",
   "metadata": {},
   "outputs": [
    {
     "data": {
      "text/plain": [
       "'/9j/4AAQSkZJRgABAQEASABIAAD/4gxYSUNDX1BST0ZJTEUAAQEAAAxITGlubwIQAABtbnRyUkdCIFhZWiAHzgACAAkABgAxAABh'"
      ]
     },
     "execution_count": 3,
     "metadata": {},
     "output_type": "execute_result"
    }
   ],
   "source": [
    "import base64\n",
    "\n",
    "image_path = 'webvilla-hv1MrBzGGNY-unsplash.jpg'\n",
    "with open(image_path, 'rb') as image_file:\n",
    "    image_bytes = image_file.read()\n",
    "    image_base64 = base64.b64encode(image_bytes).decode('utf-8')\n",
    "\n",
    "image_base64[:100]"
   ]
  },
  {
   "cell_type": "code",
   "execution_count": 13,
   "id": "6e3626b8",
   "metadata": {},
   "outputs": [
    {
     "data": {
      "text/plain": [
       "80304"
      ]
     },
     "execution_count": 13,
     "metadata": {},
     "output_type": "execute_result"
    }
   ],
   "source": [
    "len(image_base64)"
   ]
  },
  {
   "cell_type": "code",
   "execution_count": 4,
   "id": "74f08cec",
   "metadata": {},
   "outputs": [
    {
     "data": {
      "text/plain": [
       "ObjectApiResponse({'_index': 'binary_index', '_id': 'F0q-8pgBDVTKBi1fmPUV', '_version': 1, 'result': 'created', '_shards': {'total': 2, 'successful': 1, 'failed': 0}, '_seq_no': 0, '_primary_term': 1})"
      ]
     },
     "execution_count": 4,
     "metadata": {},
     "output_type": "execute_result"
    }
   ],
   "source": [
    "document = {\n",
    "    'image_data': image_base64\n",
    "}\n",
    "\n",
    "response = es.index(index='binary_index', body=document)\n",
    "response"
   ]
  },
  {
   "cell_type": "markdown",
   "id": "24c0029d",
   "metadata": {},
   "source": [
    "# 1.2. Others"
   ]
  },
  {
   "cell_type": "code",
   "execution_count": 14,
   "id": "ec9fdb66",
   "metadata": {},
   "outputs": [
    {
     "data": {
      "text/plain": [
       "ObjectApiResponse({'acknowledged': True, 'shards_acknowledged': True, 'index': 'other_common_data_types_index'})"
      ]
     },
     "execution_count": 14,
     "metadata": {},
     "output_type": "execute_result"
    }
   ],
   "source": [
    "es.indices.delete(index='other_common_data_types_index', ignore_unavailable=True)\n",
    "\n",
    "es.indices.create(\n",
    "    index='other_common_data_types_index',\n",
    "    mappings= {\n",
    "        'properties': {\n",
    "            'book_reference': {\n",
    "                'type': 'keyword'\n",
    "            },\n",
    "            'price': {\n",
    "                'type': 'float'\n",
    "            },\n",
    "            'publish_date': {\n",
    "                'type': 'date'\n",
    "            },\n",
    "            'is_available': {\n",
    "                'type': 'boolean'\n",
    "            }\n",
    "        }\n",
    "    }\n",
    ")"
   ]
  },
  {
   "cell_type": "code",
   "execution_count": 15,
   "id": "99503018",
   "metadata": {},
   "outputs": [
    {
     "data": {
      "text/plain": [
       "ObjectApiResponse({'_index': 'other_common_data_types_index', '_id': 'GErP8pgBDVTKBi1fjvVa', '_version': 1, 'result': 'created', '_shards': {'total': 2, 'successful': 1, 'failed': 0}, '_seq_no': 0, '_primary_term': 1})"
      ]
     },
     "execution_count": 15,
     "metadata": {},
     "output_type": "execute_result"
    }
   ],
   "source": [
    "document = {\n",
    "    'book_reference': '978-1617294433',\n",
    "    'price': 44.99,\n",
    "    'publish_date': '2021-06-30',\n",
    "    'is_avaible': True\n",
    "}\n",
    "response = es.index(index='other_common_data_types_index', body=document)\n",
    "response"
   ]
  }
 ],
 "metadata": {
  "kernelspec": {
   "display_name": "base",
   "language": "python",
   "name": "python3"
  },
  "language_info": {
   "codemirror_mode": {
    "name": "ipython",
    "version": 3
   },
   "file_extension": ".py",
   "mimetype": "text/x-python",
   "name": "python",
   "nbconvert_exporter": "python",
   "pygments_lexer": "ipython3",
   "version": "3.13.5"
  }
 },
 "nbformat": 4,
 "nbformat_minor": 5
}
