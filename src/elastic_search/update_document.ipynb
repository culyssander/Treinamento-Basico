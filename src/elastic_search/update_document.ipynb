{
 "cells": [
  {
   "cell_type": "code",
   "execution_count": 1,
   "id": "5d9c525a",
   "metadata": {},
   "outputs": [
    {
     "name": "stdout",
     "output_type": "stream",
     "text": [
      "connected!\n",
      "{'name': '7cbebeb542a3', 'cluster_name': 'docker-cluster', 'cluster_uuid': 'Dd9uvPVYTAaJV3SHr9HTgA', 'version': {'number': '9.1.3', 'build_flavor': 'default', 'build_type': 'docker', 'build_hash': '0c781091a2f57de895a73a1391ff8426c0153c8d', 'build_date': '2025-08-24T22:05:04.526302670Z', 'build_snapshot': False, 'lucene_version': '10.2.2', 'minimum_wire_compatibility_version': '8.19.0', 'minimum_index_compatibility_version': '8.0.0'}, 'tagline': 'You Know, for Search'}\n"
     ]
    }
   ],
   "source": [
    "from elasticsearch import Elasticsearch\n",
    "\n",
    "ELASTIC_PASSWORD = \"6_UJ-snFLq_FKHjweJhg\"\n",
    "\n",
    "CERT_FINGERPRINT = \"1123dfb3b65fa37733335d06eddf4002585aee390b6e5047fc40e247ba723920\"\n",
    "\n",
    "es = Elasticsearch(\n",
    "    \"https://localhost:9200\",\n",
    "    ssl_assert_fingerprint=CERT_FINGERPRINT,\n",
    "    basic_auth=(\"elastic\", ELASTIC_PASSWORD)\n",
    ")\n",
    "\n",
    "if es.ping():\n",
    "    print(\"connected!\")\n",
    "\n",
    "print(es.info()._body)"
   ]
  },
  {
   "cell_type": "code",
   "execution_count": 2,
   "id": "ccb2805c",
   "metadata": {},
   "outputs": [
    {
     "data": {
      "text/plain": [
       "ObjectApiResponse({'acknowledged': True, 'shards_acknowledged': True, 'index': 'my_index'})"
      ]
     },
     "execution_count": 2,
     "metadata": {},
     "output_type": "execute_result"
    }
   ],
   "source": [
    "es.indices.delete(index='my_index', ignore_unavailable=True)\n",
    "es.indices.create(index='my_index')"
   ]
  },
  {
   "cell_type": "code",
   "execution_count": 3,
   "id": "ae405117",
   "metadata": {},
   "outputs": [
    {
     "data": {
      "text/plain": [
       "['J0py9ZgBDVTKBi1fo_WP', 'KEpy9ZgBDVTKBi1fo_Wr', 'KUpy9ZgBDVTKBi1fo_Wv']"
      ]
     },
     "execution_count": 3,
     "metadata": {},
     "output_type": "execute_result"
    }
   ],
   "source": [
    "import json\n",
    "\n",
    "dummy_data = json.load(open('dummy_data.json'))\n",
    "dummy_data\n",
    "\n",
    "document_ids = []\n",
    "\n",
    "def insert_document(document):\n",
    "    response = es.index(index='my_index', body=document)\n",
    "    return response\n",
    "\n",
    "for document in dummy_data:\n",
    "    response = insert_document(document)\n",
    "    document_ids.append(response['_id'])\n",
    "\n",
    "document_ids"
   ]
  },
  {
   "cell_type": "markdown",
   "id": "78c71495",
   "metadata": {},
   "source": [
    "# Update document"
   ]
  },
  {
   "cell_type": "code",
   "execution_count": 6,
   "id": "07856e0b",
   "metadata": {},
   "outputs": [
    {
     "data": {
      "text/plain": [
       "ObjectApiResponse({'_index': 'my_index', '_id': 'J0py9ZgBDVTKBi1fo_WP', '_version': 3, 'result': 'updated', '_shards': {'total': 2, 'successful': 1, 'failed': 0}, '_seq_no': 4, '_primary_term': 1})"
      ]
     },
     "execution_count": 6,
     "metadata": {},
     "output_type": "execute_result"
    }
   ],
   "source": [
    "response = es.update(\n",
    "    index='my_index',\n",
    "    id=document_ids[0],\n",
    "    script={\n",
    "        'source': 'ctx._source.title = params.title',\n",
    "        'params': {\n",
    "            'title': 'new title 1'\n",
    "        }\n",
    "    }\n",
    ")\n",
    "response"
   ]
  },
  {
   "cell_type": "code",
   "execution_count": 8,
   "id": "380258e4",
   "metadata": {},
   "outputs": [
    {
     "name": "stdout",
     "output_type": "stream",
     "text": [
      "{'_index': 'my_index', '_id': 'J0py9ZgBDVTKBi1fo_WP', '_version': 3, '_seq_no': 4, '_primary_term': 1, 'found': True, '_source': {'title': 'new title 1', 'text': 'text 1', 'created_on': '2024-08-27'}}\n"
     ]
    }
   ],
   "source": [
    "response = es.get(index='my_index', id=document_ids[0])\n",
    "print(response.body)"
   ]
  },
  {
   "cell_type": "markdown",
   "id": "28a51841",
   "metadata": {},
   "source": [
    "# Add new field\n",
    "\n",
    "To add a new field, you can use the script argument or the doc argument"
   ]
  },
  {
   "cell_type": "code",
   "execution_count": 10,
   "id": "31fde968",
   "metadata": {},
   "outputs": [
    {
     "name": "stdout",
     "output_type": "stream",
     "text": [
      "{'_index': 'my_index', '_id': 'J0py9ZgBDVTKBi1fo_WP', '_version': 5, 'result': 'updated', '_shards': {'total': 2, 'successful': 1, 'failed': 0}, '_seq_no': 6, '_primary_term': 1}\n"
     ]
    }
   ],
   "source": [
    "response = es.update(\n",
    "    index=\"my_index\",\n",
    "    id=document_ids[0],\n",
    "    script={\n",
    "        \"source\": \"ctx._source.new_field = 'dummy_value'\",\n",
    "    },\n",
    ")\n",
    "print(response.body)"
   ]
  },
  {
   "cell_type": "code",
   "execution_count": 11,
   "id": "5f25cc83",
   "metadata": {},
   "outputs": [
    {
     "name": "stdout",
     "output_type": "stream",
     "text": [
      "{'_index': 'my_index', '_id': 'J0py9ZgBDVTKBi1fo_WP', '_version': 6, 'result': 'updated', '_shards': {'total': 2, 'successful': 1, 'failed': 0}, '_seq_no': 7, '_primary_term': 1}\n"
     ]
    }
   ],
   "source": [
    "response = es.update(\n",
    "    index=\"my_index\",\n",
    "    id=document_ids[0],\n",
    "    doc={\n",
    "        \"new_value_2\": \"dummy_value_2\",\n",
    "    },\n",
    ")\n",
    "print(response.body)"
   ]
  },
  {
   "cell_type": "markdown",
   "id": "e317b33b",
   "metadata": {},
   "source": [
    "# Remove a field"
   ]
  },
  {
   "cell_type": "code",
   "execution_count": 12,
   "id": "699ca9c1",
   "metadata": {},
   "outputs": [
    {
     "name": "stdout",
     "output_type": "stream",
     "text": [
      "{'_index': 'my_index', '_id': 'J0py9ZgBDVTKBi1fo_WP', '_version': 7, 'result': 'updated', '_shards': {'total': 2, 'successful': 1, 'failed': 0}, '_seq_no': 8, '_primary_term': 1}\n"
     ]
    }
   ],
   "source": [
    "response = es.update(\n",
    "    index=\"my_index\",\n",
    "    id=document_ids[0],\n",
    "    script={\n",
    "        \"source\": \"ctx._source.remove('new_field')\",\n",
    "    },\n",
    ")\n",
    "print(response.body)"
   ]
  },
  {
   "cell_type": "markdown",
   "id": "6de68a6a",
   "metadata": {},
   "source": [
    "# If documents doesn't exist in the index"
   ]
  },
  {
   "cell_type": "code",
   "execution_count": 13,
   "id": "f99c7178",
   "metadata": {},
   "outputs": [
    {
     "data": {
      "text/plain": [
       "ObjectApiResponse({'_index': 'my_index', '_id': '1', '_version': 1, 'result': 'created', '_shards': {'total': 2, 'successful': 1, 'failed': 0}, '_seq_no': 9, '_primary_term': 1})"
      ]
     },
     "execution_count": 13,
     "metadata": {},
     "output_type": "execute_result"
    }
   ],
   "source": [
    "response = es.update(\n",
    "    index=\"my_index\",\n",
    "    id=\"1\",\n",
    "    doc={\n",
    "        \"book_id\": 1234,\n",
    "        \"book_name\": \"A book\",\n",
    "    },\n",
    "    doc_as_upsert=True,\n",
    ")\n",
    "\n",
    "response"
   ]
  }
 ],
 "metadata": {
  "kernelspec": {
   "display_name": "base",
   "language": "python",
   "name": "python3"
  },
  "language_info": {
   "codemirror_mode": {
    "name": "ipython",
    "version": 3
   },
   "file_extension": ".py",
   "mimetype": "text/x-python",
   "name": "python",
   "nbconvert_exporter": "python",
   "pygments_lexer": "ipython3",
   "version": "3.13.5"
  }
 },
 "nbformat": 4,
 "nbformat_minor": 5
}
